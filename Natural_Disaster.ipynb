{
 "cells": [
  {
   "cell_type": "code",
   "execution_count": 41,
   "metadata": {},
   "outputs": [],
   "source": [
    "import pandas as pd\n",
    "import numpy as np\n",
    "import seaborn as sns\n",
    "import matplotlib.pyplot as plt\n",
    "from vincenty import vincenty\n",
    "\n",
    "pd.set_option('display.max_columns', 500)\n",
    "pd.set_option('display.max_rows', 500)"
   ]
  },
  {
   "cell_type": "code",
   "execution_count": 3,
   "metadata": {},
   "outputs": [],
   "source": [
    "#Import natural disaster data\n",
    "raw = pd.read_csv('natural_disaster_human_mobility.csv')"
   ]
  },
  {
   "cell_type": "code",
   "execution_count": 33,
   "metadata": {},
   "outputs": [],
   "source": [
    "#Switch latitude and longtitude columns, rename and reorder, dataframe\n",
    "df = raw\n",
    "df = df.rename(columns = {'disaster.event': 'event', 'user.anon': 'user', 'latitude': 'long', 'longitude.anon': 'lat'})\n",
    "df = df[['event', 'user', 'lat', 'long', 'time']]\n",
    "df['time'] = pd.DatetimeIndex(df['time'])\n"
   ]
  },
  {
   "cell_type": "code",
   "execution_count": 34,
   "metadata": {},
   "outputs": [
    {
     "data": {
      "text/html": [
       "<div>\n",
       "<style scoped>\n",
       "    .dataframe tbody tr th:only-of-type {\n",
       "        vertical-align: middle;\n",
       "    }\n",
       "\n",
       "    .dataframe tbody tr th {\n",
       "        vertical-align: top;\n",
       "    }\n",
       "\n",
       "    .dataframe thead th {\n",
       "        text-align: right;\n",
       "    }\n",
       "</style>\n",
       "<table border=\"1\" class=\"dataframe\">\n",
       "  <thead>\n",
       "    <tr style=\"text-align: right;\">\n",
       "      <th></th>\n",
       "      <th>user</th>\n",
       "      <th>lat</th>\n",
       "      <th>long</th>\n",
       "    </tr>\n",
       "    <tr>\n",
       "      <th>event</th>\n",
       "      <th></th>\n",
       "      <th></th>\n",
       "      <th></th>\n",
       "    </tr>\n",
       "  </thead>\n",
       "  <tbody>\n",
       "    <tr>\n",
       "      <th>01_Wipha</th>\n",
       "      <td>24368.338734</td>\n",
       "      <td>28.391620</td>\n",
       "      <td>139.668645</td>\n",
       "    </tr>\n",
       "    <tr>\n",
       "      <th>02_Halong</th>\n",
       "      <td>2482.137684</td>\n",
       "      <td>43.006657</td>\n",
       "      <td>127.762166</td>\n",
       "    </tr>\n",
       "    <tr>\n",
       "      <th>06_Kalmaegi</th>\n",
       "      <td>591.625357</td>\n",
       "      <td>5.342795</td>\n",
       "      <td>120.410101</td>\n",
       "    </tr>\n",
       "    <tr>\n",
       "      <th>08_Rammasun_Manila</th>\n",
       "      <td>17102.932522</td>\n",
       "      <td>9.572405</td>\n",
       "      <td>120.997554</td>\n",
       "    </tr>\n",
       "    <tr>\n",
       "      <th>12_Bohol</th>\n",
       "      <td>3805.313771</td>\n",
       "      <td>-2.370050</td>\n",
       "      <td>123.860556</td>\n",
       "    </tr>\n",
       "    <tr>\n",
       "      <th>13_Iquique</th>\n",
       "      <td>781.068314</td>\n",
       "      <td>-18.004903</td>\n",
       "      <td>-70.133271</td>\n",
       "    </tr>\n",
       "    <tr>\n",
       "      <th>14_Napa</th>\n",
       "      <td>888.637865</td>\n",
       "      <td>34.441945</td>\n",
       "      <td>-122.302310</td>\n",
       "    </tr>\n",
       "    <tr>\n",
       "      <th>21_Norfolk</th>\n",
       "      <td>4276.517602</td>\n",
       "      <td>69.428469</td>\n",
       "      <td>1.132364</td>\n",
       "    </tr>\n",
       "    <tr>\n",
       "      <th>22_Hamburg</th>\n",
       "      <td>1428.430413</td>\n",
       "      <td>63.611212</td>\n",
       "      <td>10.002712</td>\n",
       "    </tr>\n",
       "    <tr>\n",
       "      <th>23_Atlanta</th>\n",
       "      <td>7803.335969</td>\n",
       "      <td>48.115655</td>\n",
       "      <td>-84.402464</td>\n",
       "    </tr>\n",
       "    <tr>\n",
       "      <th>31_Phoenix</th>\n",
       "      <td>11595.664247</td>\n",
       "      <td>21.849586</td>\n",
       "      <td>-112.088887</td>\n",
       "    </tr>\n",
       "    <tr>\n",
       "      <th>32_Detroit</th>\n",
       "      <td>8281.965728</td>\n",
       "      <td>38.071186</td>\n",
       "      <td>-83.117919</td>\n",
       "    </tr>\n",
       "    <tr>\n",
       "      <th>33_Baltimore</th>\n",
       "      <td>7527.589023</td>\n",
       "      <td>21.977349</td>\n",
       "      <td>-76.620763</td>\n",
       "    </tr>\n",
       "    <tr>\n",
       "      <th>41_AuFire1</th>\n",
       "      <td>2572.768018</td>\n",
       "      <td>-22.569533</td>\n",
       "      <td>151.059366</td>\n",
       "    </tr>\n",
       "    <tr>\n",
       "      <th>42_AuFire2</th>\n",
       "      <td>3991.742691</td>\n",
       "      <td>-31.948435</td>\n",
       "      <td>151.008412</td>\n",
       "    </tr>\n",
       "  </tbody>\n",
       "</table>\n",
       "</div>"
      ],
      "text/plain": [
       "                            user        lat        long\n",
       "event                                                  \n",
       "01_Wipha            24368.338734  28.391620  139.668645\n",
       "02_Halong            2482.137684  43.006657  127.762166\n",
       "06_Kalmaegi           591.625357   5.342795  120.410101\n",
       "08_Rammasun_Manila  17102.932522   9.572405  120.997554\n",
       "12_Bohol             3805.313771  -2.370050  123.860556\n",
       "13_Iquique            781.068314 -18.004903  -70.133271\n",
       "14_Napa               888.637865  34.441945 -122.302310\n",
       "21_Norfolk           4276.517602  69.428469    1.132364\n",
       "22_Hamburg           1428.430413  63.611212   10.002712\n",
       "23_Atlanta           7803.335969  48.115655  -84.402464\n",
       "31_Phoenix          11595.664247  21.849586 -112.088887\n",
       "32_Detroit           8281.965728  38.071186  -83.117919\n",
       "33_Baltimore         7527.589023  21.977349  -76.620763\n",
       "41_AuFire1           2572.768018 -22.569533  151.059366\n",
       "42_AuFire2           3991.742691 -31.948435  151.008412"
      ]
     },
     "execution_count": 34,
     "metadata": {},
     "output_type": "execute_result"
    }
   ],
   "source": [
    "#Calculate event location by averaging the first lat long entry for each user\n",
    "group = df.groupby(by = 'event').mean()\n",
    "group"
   ]
  },
  {
   "cell_type": "code",
   "execution_count": 37,
   "metadata": {},
   "outputs": [],
   "source": [
    "#Export average coordinates to csv for tableau\n",
    "group.to_csv('ave_coord.csv')"
   ]
  },
  {
   "cell_type": "code",
   "execution_count": 243,
   "metadata": {},
   "outputs": [],
   "source": [
    "napa2 = df[(df['event'] == '14_Napa')]\n",
    "napa2.shape\n",
    "napa2.to_csv('napa2.csv')"
   ]
  },
  {
   "cell_type": "code",
   "execution_count": 183,
   "metadata": {},
   "outputs": [],
   "source": [
    "napa = df[(df['event'] == '14_Napa') & (df['user'] == 3)]"
   ]
  },
  {
   "cell_type": "code",
   "execution_count": 189,
   "metadata": {
    "scrolled": false
   },
   "outputs": [
    {
     "name": "stderr",
     "output_type": "stream",
     "text": [
      "/Users/mattcarney/anaconda3/lib/python3.7/site-packages/ipykernel_launcher.py:2: SettingWithCopyWarning: \n",
      "A value is trying to be set on a copy of a slice from a DataFrame.\n",
      "Try using .loc[row_indexer,col_indexer] = value instead\n",
      "\n",
      "See the caveats in the documentation: http://pandas.pydata.org/pandas-docs/stable/indexing.html#indexing-view-versus-copy\n",
      "  \n",
      "/Users/mattcarney/anaconda3/lib/python3.7/site-packages/ipykernel_launcher.py:3: SettingWithCopyWarning: \n",
      "A value is trying to be set on a copy of a slice from a DataFrame.\n",
      "Try using .loc[row_indexer,col_indexer] = value instead\n",
      "\n",
      "See the caveats in the documentation: http://pandas.pydata.org/pandas-docs/stable/indexing.html#indexing-view-versus-copy\n",
      "  This is separate from the ipykernel package so we can avoid doing imports until\n",
      "/Users/mattcarney/anaconda3/lib/python3.7/site-packages/ipykernel_launcher.py:4: SettingWithCopyWarning: \n",
      "A value is trying to be set on a copy of a slice from a DataFrame.\n",
      "Try using .loc[row_indexer,col_indexer] = value instead\n",
      "\n",
      "See the caveats in the documentation: http://pandas.pydata.org/pandas-docs/stable/indexing.html#indexing-view-versus-copy\n",
      "  after removing the cwd from sys.path.\n",
      "/Users/mattcarney/anaconda3/lib/python3.7/site-packages/ipykernel_launcher.py:5: SettingWithCopyWarning: \n",
      "A value is trying to be set on a copy of a slice from a DataFrame.\n",
      "Try using .loc[row_indexer,col_indexer] = value instead\n",
      "\n",
      "See the caveats in the documentation: http://pandas.pydata.org/pandas-docs/stable/indexing.html#indexing-view-versus-copy\n",
      "  \"\"\"\n"
     ]
    }
   ],
   "source": [
    "#Generate distance column\n",
    "napa['lat_1'] = napa['lat'].shift()\n",
    "napa['long_1'] = napa['long'].shift()\n",
    "napa['dist_mi'] = napa.apply(lambda row: vincenty((row['lat'], row['long']), (row['lat_1'], row['long_1'])), axis=1)\n",
    "napa['dist_ft'] = napa['dist_mi']*5260"
   ]
  },
  {
   "cell_type": "code",
   "execution_count": 229,
   "metadata": {
    "scrolled": true
   },
   "outputs": [
    {
     "name": "stderr",
     "output_type": "stream",
     "text": [
      "/Users/mattcarney/anaconda3/lib/python3.7/site-packages/ipykernel_launcher.py:1: SettingWithCopyWarning: \n",
      "A value is trying to be set on a copy of a slice from a DataFrame.\n",
      "Try using .loc[row_indexer,col_indexer] = value instead\n",
      "\n",
      "See the caveats in the documentation: http://pandas.pydata.org/pandas-docs/stable/indexing.html#indexing-view-versus-copy\n",
      "  \"\"\"Entry point for launching an IPython kernel.\n",
      "/Users/mattcarney/anaconda3/lib/python3.7/site-packages/ipykernel_launcher.py:2: SettingWithCopyWarning: \n",
      "A value is trying to be set on a copy of a slice from a DataFrame.\n",
      "Try using .loc[row_indexer,col_indexer] = value instead\n",
      "\n",
      "See the caveats in the documentation: http://pandas.pydata.org/pandas-docs/stable/indexing.html#indexing-view-versus-copy\n",
      "  \n",
      "/Users/mattcarney/anaconda3/lib/python3.7/site-packages/ipykernel_launcher.py:3: SettingWithCopyWarning: \n",
      "A value is trying to be set on a copy of a slice from a DataFrame.\n",
      "Try using .loc[row_indexer,col_indexer] = value instead\n",
      "\n",
      "See the caveats in the documentation: http://pandas.pydata.org/pandas-docs/stable/indexing.html#indexing-view-versus-copy\n",
      "  This is separate from the ipykernel package so we can avoid doing imports until\n"
     ]
    }
   ],
   "source": [
    "napa['time_diff'] = napa['time'].diff()\n",
    "napa['time_diff_hour'] = napa['time_diff']/np.timedelta64(1, 'h')\n",
    "napa['time_diff_day'] = napa['time_diff']/np.timedelta64(1, 'D')"
   ]
  },
  {
   "cell_type": "code",
   "execution_count": 231,
   "metadata": {},
   "outputs": [
    {
     "name": "stderr",
     "output_type": "stream",
     "text": [
      "/Users/mattcarney/anaconda3/lib/python3.7/site-packages/ipykernel_launcher.py:1: SettingWithCopyWarning: \n",
      "A value is trying to be set on a copy of a slice from a DataFrame.\n",
      "Try using .loc[row_indexer,col_indexer] = value instead\n",
      "\n",
      "See the caveats in the documentation: http://pandas.pydata.org/pandas-docs/stable/indexing.html#indexing-view-versus-copy\n",
      "  \"\"\"Entry point for launching an IPython kernel.\n"
     ]
    }
   ],
   "source": [
    "napa['velocity_mph'] = napa['dist_mi']/napa['time_diff_hour'] "
   ]
  },
  {
   "cell_type": "code",
   "execution_count": 238,
   "metadata": {},
   "outputs": [
    {
     "data": {
      "text/plain": [
       "Timestamp('2014-07-30 13:05:52')"
      ]
     },
     "execution_count": 238,
     "metadata": {},
     "output_type": "execute_result"
    }
   ],
   "source": [
    "m = napa['time'].min()\n",
    "m"
   ]
  },
  {
   "cell_type": "code",
   "execution_count": 233,
   "metadata": {},
   "outputs": [],
   "source": [
    "napa.to_csv('napa.csv')"
   ]
  },
  {
   "cell_type": "code",
   "execution_count": 239,
   "metadata": {},
   "outputs": [
    {
     "data": {
      "text/plain": [
       "event                         14_Napa\n",
       "user                                3\n",
       "lat                           34.4481\n",
       "long                         -122.311\n",
       "time              2014-07-30 13:05:52\n",
       "lat_1                             NaN\n",
       "long_1                            NaN\n",
       "dist                              NaN\n",
       "dist_mi                           NaN\n",
       "dist_ft                           NaN\n",
       "time_diff                         NaT\n",
       "time_diff_hour                    NaN\n",
       "time_diff_day                     NaN\n",
       "velocity_mph                      NaN\n",
       "Name: 2579283, dtype: object"
      ]
     },
     "execution_count": 239,
     "metadata": {},
     "output_type": "execute_result"
    }
   ],
   "source": [
    "napa.iloc[0,:]"
   ]
  },
  {
   "cell_type": "code",
   "execution_count": null,
   "metadata": {},
   "outputs": [],
   "source": []
  },
  {
   "cell_type": "code",
   "execution_count": null,
   "metadata": {},
   "outputs": [],
   "source": []
  }
 ],
 "metadata": {
  "kernelspec": {
   "display_name": "Python 3",
   "language": "python",
   "name": "python3"
  },
  "language_info": {
   "codemirror_mode": {
    "name": "ipython",
    "version": 3
   },
   "file_extension": ".py",
   "mimetype": "text/x-python",
   "name": "python",
   "nbconvert_exporter": "python",
   "pygments_lexer": "ipython3",
   "version": "3.7.3"
  }
 },
 "nbformat": 4,
 "nbformat_minor": 2
}
