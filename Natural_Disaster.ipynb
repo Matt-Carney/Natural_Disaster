{
 "cells": [
  {
   "cell_type": "code",
   "execution_count": 10,
   "metadata": {},
   "outputs": [],
   "source": [
    "import pandas as pd\n",
    "import numpy as np\n",
    "import seaborn as sns\n",
    "import matplotlib.pyplot as plt\n",
    "from vincenty import vincenty\n",
    "\n",
    "from sklearn.preprocessing import scale\n",
    "from sklearn.cluster import KMeans\n",
    "from sklearn.datasets import make_blobs\n",
    "from sklearn.datasets import fetch_mldata\n",
    "from sklearn.utils import shuffle\n",
    "\n",
    "pd.set_option('display.max_columns', 500)\n",
    "pd.set_option('display.max_rows', 10000)"
   ]
  },
  {
   "cell_type": "code",
   "execution_count": 91,
   "metadata": {},
   "outputs": [],
   "source": [
    "#Import natural disaster data\n",
    "raw = pd.read_csv('natural_disaster_human_mobility.csv')"
   ]
  },
  {
   "cell_type": "code",
   "execution_count": 109,
   "metadata": {},
   "outputs": [],
   "source": [
    "#Switch latitude and longtitude columns, rename and reorder, dataframe\n",
    "df = raw\n",
    "df = df.rename(columns = {'disaster.event': 'event', 'user.anon': 'user', 'latitude': 'long', 'longitude.anon': 'lat'})\n",
    "df = df[['event', 'user', 'lat', 'long', 'time']]\n",
    "df['time'] = pd.DatetimeIndex(df['time'])\n"
   ]
  },
  {
   "cell_type": "code",
   "execution_count": 110,
   "metadata": {},
   "outputs": [],
   "source": [
    "#Clean event names\n",
    "event_name={\n",
    "'01_Wipha':'Wipha',\n",
    "'02_Halong': 'Halong',\n",
    "'06_Kalmaegi': 'Kalmaegi',\n",
    "'08_Rammasun_Manila': 'Manila',\n",
    "'12_Bohol': 'Bohol',\n",
    "'12_Iquique': 'Iquidue',\n",
    "'13_Napa': 'Napa',\n",
    "'21_Norfolk': 'Norfolk',\n",
    "'22_Hamburg': 'Hamburg',\n",
    "'23_Atlanta': 'Atlanta',\n",
    "'31_Phoenix': 'Phoenix',\n",
    "'32_Detroit': 'Detroit',\n",
    "'33_Baltimore': 'Baltimore',\n",
    "'41_AuFire1': 'Australia1',\n",
    "'42_AuFire2': 'Australia2'}\n",
    "\n",
    "df['event_name'] = df['event'].map(event_name)"
   ]
  },
  {
   "cell_type": "code",
   "execution_count": 111,
   "metadata": {},
   "outputs": [],
   "source": [
    "#Add event type\n",
    "event_type={\n",
    "'Wipha': 'Typhoon',\n",
    "'Halong': 'Typhoon',\n",
    "'Kalmaegi': 'Typhoon',\n",
    "'Manila': 'Typhoon',\n",
    "'Bohol': 'Earthquake',\n",
    "'Iquidue': 'Earthquake',\n",
    "'Napa': 'Earthquake',\n",
    "'Norfolk': 'Winter_Storm',\n",
    "'Hamburg': 'Winter_Storm',\n",
    "'Atlanta': 'Winter_Storm',\n",
    "'Phoenix': 'Thunderstorm',\n",
    "'Detroit': 'Thunderstorm',\n",
    "'Baltimore': 'Thunderstorm',\n",
    "'Australia1': 'Wildfire',\n",
    "'Australia2': 'Wildfire'}    \n",
    "\n",
    "df['event_type'] = df['event_name'].map(event_type)\n",
    "df = df.drop(columns = ['event'])"
   ]
  },
  {
   "cell_type": "code",
   "execution_count": 112,
   "metadata": {},
   "outputs": [
    {
     "data": {
      "text/html": [
       "<div>\n",
       "<style scoped>\n",
       "    .dataframe tbody tr th:only-of-type {\n",
       "        vertical-align: middle;\n",
       "    }\n",
       "\n",
       "    .dataframe tbody tr th {\n",
       "        vertical-align: top;\n",
       "    }\n",
       "\n",
       "    .dataframe thead th {\n",
       "        text-align: right;\n",
       "    }\n",
       "</style>\n",
       "<table border=\"1\" class=\"dataframe\">\n",
       "  <thead>\n",
       "    <tr style=\"text-align: right;\">\n",
       "      <th></th>\n",
       "      <th>user</th>\n",
       "      <th>lat</th>\n",
       "      <th>long</th>\n",
       "      <th>time</th>\n",
       "      <th>event_name</th>\n",
       "      <th>event_type</th>\n",
       "    </tr>\n",
       "  </thead>\n",
       "  <tbody>\n",
       "    <tr>\n",
       "      <th>0</th>\n",
       "      <td>0</td>\n",
       "      <td>24.515364</td>\n",
       "      <td>139.742561</td>\n",
       "      <td>2013-10-20 10:46:03</td>\n",
       "      <td>Wipha</td>\n",
       "      <td>Typhoon</td>\n",
       "    </tr>\n",
       "    <tr>\n",
       "      <th>1</th>\n",
       "      <td>0</td>\n",
       "      <td>24.569996</td>\n",
       "      <td>139.702880</td>\n",
       "      <td>2013-10-20 18:04:00</td>\n",
       "      <td>Wipha</td>\n",
       "      <td>Typhoon</td>\n",
       "    </tr>\n",
       "  </tbody>\n",
       "</table>\n",
       "</div>"
      ],
      "text/plain": [
       "   user        lat        long                time event_name event_type\n",
       "0     0  24.515364  139.742561 2013-10-20 10:46:03      Wipha    Typhoon\n",
       "1     0  24.569996  139.702880 2013-10-20 18:04:00      Wipha    Typhoon"
      ]
     },
     "execution_count": 112,
     "metadata": {},
     "output_type": "execute_result"
    }
   ],
   "source": [
    "df.head(2)"
   ]
  },
  {
   "cell_type": "code",
   "execution_count": 8,
   "metadata": {},
   "outputs": [],
   "source": [
    "all_data = df.groupby(['event', 'user'])\n",
    "all_data = all_data.apply(lambda _all_data: _all_data.sort_values(by=['time']))"
   ]
  },
  {
   "cell_type": "code",
   "execution_count": 113,
   "metadata": {},
   "outputs": [],
   "source": [
    "#Generate distance column\n",
    "#all_data['lat_1'] = all_data['lat'].shift()\n",
    "#all_data['long_1'] = all_data['long'].shift()\n",
    "#all_data['dist_mi'] = all_data.apply(lambda row: vincenty((row['lat'], row['long']), (row['lat_1'], row['long_1'])), axis=1)"
   ]
  },
  {
   "cell_type": "code",
   "execution_count": null,
   "metadata": {},
   "outputs": [],
   "source": [
    "df = df.groupby('id', group_keys=False).apply(lambda x:x.iloc[1:])"
   ]
  },
  {
   "cell_type": "code",
   "execution_count": null,
   "metadata": {},
   "outputs": [],
   "source": [
    "all_data['date'] = all_data['time'].dt.date\n",
    "all_data['time_diff'] = all_data['time'].diff()\n",
    "all_data['time_diff_hour'] = all_data['time_diff']/np.timedelta64(1, 'h')\n",
    "all_data['time_diff_day'] = all_data['time_diff']/np.timedelta64(1, 'D')\n",
    "all_data['velocity_mph'] = all_data['dist_mi']/all_data['time_diff_hour']\n",
    "all_data['dist_cent'] = napa.apply(lambda row: vincenty((row['lat'], row['long']), \\\n",
    "                                                    (all_data['lat'].mean(), all_data['long'].mean())), axis=1)\n",
    "                                                    "
   ]
  },
  {
   "cell_type": "code",
   "execution_count": null,
   "metadata": {},
   "outputs": [],
   "source": [
    "#Calculate event location by averaging the first lat long entry for each user\n",
    "all_data.groupby('event').max()"
   ]
  },
  {
   "cell_type": "code",
   "execution_count": null,
   "metadata": {},
   "outputs": [],
   "source": [
    "#Export average coordinates to csv for tableau\n",
    "group.to_csv('ave_coord.csv')"
   ]
  },
  {
   "cell_type": "code",
   "execution_count": null,
   "metadata": {},
   "outputs": [],
   "source": [
    "napa2 = df[(df['event'] == '14_Napa')]\n",
    "napa2.shape\n",
    "napa2.to_csv('napa2.csv')\n",
    "napa2.head()"
   ]
  },
  {
   "cell_type": "code",
   "execution_count": null,
   "metadata": {},
   "outputs": [],
   "source": [
    "napa = df[(df['event'] == '14_Napa')]"
   ]
  },
  {
   "cell_type": "code",
   "execution_count": null,
   "metadata": {
    "scrolled": false
   },
   "outputs": [],
   "source": [
    "#Generate distance column\n",
    "napa['lat_1'] = napa['lat'].shift()\n",
    "napa['long_1'] = napa['long'].shift()\n",
    "napa['dist_mi'] = napa.apply(lambda row: vincenty((row['lat'], row['long']), (row['lat_1'], row['long_1'])), axis=1)\n",
    "napa['dist_ft'] = napa['dist_mi']*5260"
   ]
  },
  {
   "cell_type": "code",
   "execution_count": null,
   "metadata": {
    "scrolled": true
   },
   "outputs": [],
   "source": [
    "napa['time_diff'] = napa['time'].diff()\n",
    "napa['time_diff_hour'] = napa['time_diff']/np.timedelta64(1, 'h')\n",
    "napa['time_diff_day'] = napa['time_diff']/np.timedelta64(1, 'D')"
   ]
  },
  {
   "cell_type": "code",
   "execution_count": null,
   "metadata": {
    "scrolled": true
   },
   "outputs": [],
   "source": [
    "napa['velocity_mph'] = napa['dist_mi']/napa['time_diff_hour'] "
   ]
  },
  {
   "cell_type": "code",
   "execution_count": null,
   "metadata": {
    "scrolled": true
   },
   "outputs": [],
   "source": [
    "napa['dist_cent'] = napa.apply(lambda row: vincenty((row['lat'], row['long']), \\\n",
    "                                                    (napa['lat'].mean(), napa['long'].mean())), axis=1)\n"
   ]
  },
  {
   "cell_type": "code",
   "execution_count": null,
   "metadata": {},
   "outputs": [],
   "source": [
    "napa.to_csv('napa.csv')"
   ]
  },
  {
   "cell_type": "code",
   "execution_count": null,
   "metadata": {},
   "outputs": [],
   "source": [
    "napa['date'] = napa['time'].dt.date\n",
    "napa['date'] = pd.to_datetime(napa['date'])"
   ]
  },
  {
   "cell_type": "code",
   "execution_count": null,
   "metadata": {
    "scrolled": true
   },
   "outputs": [],
   "source": [
    "#napa['disaster_day'] = napa.where(napa['date'] == '2014-08-24')\n",
    "napa['disaster_day'] = napa['date'].map(lambda x: 1 if x== '2014-08-24' else 0)"
   ]
  },
  {
   "cell_type": "code",
   "execution_count": null,
   "metadata": {},
   "outputs": [],
   "source": [
    "napa['disaster_day'] = (napa['date'] == '2014-08-24')\n",
    "#sol['Completed'] = (sol['Installed Status'] == 'Installed').astype(int) "
   ]
  },
  {
   "cell_type": "code",
   "execution_count": null,
   "metadata": {
    "scrolled": true
   },
   "outputs": [],
   "source": [
    "napa.head(300)"
   ]
  },
  {
   "cell_type": "code",
   "execution_count": null,
   "metadata": {
    "scrolled": true
   },
   "outputs": [],
   "source": [
    "napa.info()"
   ]
  },
  {
   "cell_type": "code",
   "execution_count": null,
   "metadata": {
    "scrolled": true
   },
   "outputs": [],
   "source": [
    "napa_group_user = napa.groupby(['user', 'date', 'disaster_day']).mean()\n",
    "napa_group_user"
   ]
  },
  {
   "cell_type": "code",
   "execution_count": null,
   "metadata": {
    "scrolled": true
   },
   "outputs": [],
   "source": [
    "\n",
    "#pd.to_datetime(napa['time'],format = '%m/%d/%Y')"
   ]
  },
  {
   "cell_type": "code",
   "execution_count": null,
   "metadata": {
    "scrolled": false
   },
   "outputs": [],
   "source": [
    "napa_group = napa.groupby(by = 'date').mean().reset_index()\n",
    "napa_group"
   ]
  },
  {
   "cell_type": "code",
   "execution_count": null,
   "metadata": {},
   "outputs": [],
   "source": [
    "napa_group.info()"
   ]
  },
  {
   "cell_type": "code",
   "execution_count": null,
   "metadata": {},
   "outputs": [],
   "source": [
    "napa_group3 = napa_group.reset_index()\n",
    "napa_group3"
   ]
  },
  {
   "cell_type": "code",
   "execution_count": null,
   "metadata": {},
   "outputs": [],
   "source": [
    "napa_group2 = napa.groupby(by = 'date').size()\n",
    "napa_group2"
   ]
  },
  {
   "cell_type": "code",
   "execution_count": null,
   "metadata": {
    "scrolled": false
   },
   "outputs": [],
   "source": [
    "sns.scatterplot(x=napa_group2, y=napa_group['velocity_mph'])"
   ]
  },
  {
   "cell_type": "code",
   "execution_count": null,
   "metadata": {},
   "outputs": [],
   "source": [
    "sns.scatterplot(x=napa_group3['lat'], y=napa_group3['long'], hue=napa_group3['date'])"
   ]
  },
  {
   "cell_type": "code",
   "execution_count": null,
   "metadata": {
    "scrolled": true
   },
   "outputs": [],
   "source": [
    "sns.scatterplot(x=napa_group3['lat'], y=napa_group3['long'])"
   ]
  },
  {
   "cell_type": "code",
   "execution_count": null,
   "metadata": {},
   "outputs": [],
   "source": [
    "X = np.append(napa_group3['lat'],napa_group3['long']).transpose()"
   ]
  },
  {
   "cell_type": "code",
   "execution_count": null,
   "metadata": {},
   "outputs": [],
   "source": [
    "X = napa_group3[['lat', 'long']]"
   ]
  },
  {
   "cell_type": "code",
   "execution_count": null,
   "metadata": {},
   "outputs": [],
   "source": [
    "X = X.as_matrix()"
   ]
  },
  {
   "cell_type": "code",
   "execution_count": null,
   "metadata": {},
   "outputs": [],
   "source": [
    "X.shape"
   ]
  },
  {
   "cell_type": "code",
   "execution_count": null,
   "metadata": {},
   "outputs": [],
   "source": [
    "#helper function that allows us to display data in 2 dimensions an highlights the clusters\n",
    "def display_cluster(X,km=[],num_clusters=0):\n",
    "    color = 'brgcmyk'\n",
    "    alpha = 0.5\n",
    "    s = 20\n",
    "    if num_clusters == 0:\n",
    "        plt.scatter(X[:,0],X[:,1],c = color[0],alpha = alpha,s = s)\n",
    "    else:\n",
    "        for i in range(num_clusters):\n",
    "            plt.scatter(X[km.labels_==i,0],X[km.labels_==i,1],c = color[i],alpha = alpha,s=s)\n",
    "            plt.scatter(km.cluster_centers_[i][0],km.cluster_centers_[i][1],c = color[i], marker = 'x', s = 100)"
   ]
  },
  {
   "cell_type": "code",
   "execution_count": null,
   "metadata": {},
   "outputs": [],
   "source": [
    "num_clusters = 2\n",
    "km = KMeans(n_clusters=num_clusters,random_state=10,n_init=1) # n_init, number of times the K-mean algorithm will run\n",
    "km.fit(X)\n",
    "display_cluster(X,km,num_clusters)"
   ]
  },
  {
   "cell_type": "code",
   "execution_count": null,
   "metadata": {},
   "outputs": [],
   "source": [
    "km.cluster_centers_"
   ]
  },
  {
   "cell_type": "code",
   "execution_count": null,
   "metadata": {},
   "outputs": [],
   "source": [
    "km.inertia_"
   ]
  },
  {
   "cell_type": "code",
   "execution_count": null,
   "metadata": {},
   "outputs": [],
   "source": [
    "plt.plot([KMeans(n_clusters=i).fit(X).inertia_ for i in range(1,10)])"
   ]
  },
  {
   "cell_type": "code",
   "execution_count": null,
   "metadata": {},
   "outputs": [],
   "source": []
  }
 ],
 "metadata": {
  "kernelspec": {
   "display_name": "Python 3",
   "language": "python",
   "name": "python3"
  },
  "language_info": {
   "codemirror_mode": {
    "name": "ipython",
    "version": 3
   },
   "file_extension": ".py",
   "mimetype": "text/x-python",
   "name": "python",
   "nbconvert_exporter": "python",
   "pygments_lexer": "ipython3",
   "version": "3.7.3"
  }
 },
 "nbformat": 4,
 "nbformat_minor": 2
}
